{
 "cells": [
  {
   "cell_type": "code",
   "execution_count": 206,
   "id": "dd018fbd",
   "metadata": {},
   "outputs": [],
   "source": [
    "import numpy as np\n",
    "import matplotlib.pyplot as plt\n",
    "import mdtraj as md\n",
    "import pandas as pd\n",
    "from package.mdtool.mdtool import load_traj, traj_slice"
   ]
  },
  {
   "cell_type": "code",
   "execution_count": 207,
   "id": "a5c56db6",
   "metadata": {},
   "outputs": [],
   "source": [
    "pdb = md.load(\"frame_0.pdb\")\n",
    "ntail_seq = [str(i) for i in list(traj_slice(pdb, \"chainid 1\").top.residues)]\n",
    "xd_seq = list(traj_slice(pdb, \"chainid 0\").top.residues)\n",
    "ntail_code = np.array([str(i.code) for i in traj_slice(pdb, \"chainid 1\").top.residues])"
   ]
  },
  {
   "cell_type": "code",
   "execution_count": 289,
   "id": "b1f5b799",
   "metadata": {},
   "outputs": [],
   "source": [
    "# helper functions\n",
    "amino_abr = [\"ALA\", \"ARG\", \"ASN\", \"ASP\", \"CYS\", \"GLU\", \"GLN\", \"GLY\", \"HIS\", \"ILE\", \"LEU\", \"LYS\", \"MET\", \"PHE\", \"PRO\", \"SER\", \"THR\", \"TRP\", \"TYR\", \"VAL\"]\n",
    "amino_code = [\"A\", \"R\", \"N\", \"D\", \"C\", \"E\", \"Q\", \"G\", \"H\", \"I\", \"L\", \"K\", \"M\", \"F\", \"P\", \"S\", \"T\", \"W\", \"Y\", \"V\"]\n",
    "def dict_map(d: dict, x, f=float):\n",
    "    return np.array(list(map(d.__getitem__, x))).astype(f)\n",
    "\n",
    "abr_to_code=dict(zip(amino_abr, amino_code))\n",
    "code_to_abr=dict(zip(amino_code, amino_abr))\n",
    "code_to_numerical = dict(zip(amino_code, range(20)))\n",
    "\n",
    "to_code = lambda x : dict_map(abr_to_code, x, str)\n",
    "to_numerical = lambda x : dict_map(code_to_numerical, x, float)\n",
    "to_seq = lambda x : dict_map(code_to_abr, x, str)"
   ]
  },
  {
   "cell_type": "markdown",
   "id": "758226ea",
   "metadata": {},
   "source": [
    " # independent structure of entire sendai nucleoprotein from protein data base"
   ]
  },
  {
   "cell_type": "code",
   "execution_count": 290,
   "id": "f03a754c",
   "metadata": {},
   "outputs": [],
   "source": [
    "fasta = \"MAGLLSTFDTFSSRRSESINKSGGGAVIPGQRSTVSVFVLGPSVTDDADKLSIATTFLAHSLDTDKQHSQRGGFLVSLLAMAYSSPELYLTTNGVNADVKYVIYNIEKDPKRTKTDGFIVKTRDMEYERTTEWLFGPMVNKSPLFQGQRDAADPDTLLQIYGYPACLGAIIVQVWIVLVKAITSSAGLRKGFFNRLEAFRQDGTVKGALVFTGETVEGIGSVMRSQQSLVSLMVETLVTMNTARSDLTTLEKNIQIVGNYIRDAGLASFMNTIKYGVETKMAALTLSNLRPDINKLRSLIDTYLSKGPRAPFICILKDPVHGEFAPGNYPALWSYAMGVAVVQNKAMQQYVTGRTYLDMEMFLLGQAVAKDAESKISSALEDELGVTDTAKERLRHHLANLSGGDGAYHKPTGGGAIEVALDNADIDLEPEAHTDQDARGWGGDSGDRWARSMGSGHFITLHGAERLEEETNDEDVSDIERRIARRLAERRQEDATTHEDEGRNNGVDHDEEDDAAAAAGMGGI\"\n",
    "exp_code = [str(i) for i in fasta]"
   ]
  },
  {
   "cell_type": "markdown",
   "id": "61e5472d",
   "metadata": {},
   "source": [
    "load_traj(\"./\", traj_keyword=\"traj_trunc\", pdb_keyword=\"frame\")"
   ]
  },
  {
   "cell_type": "markdown",
   "id": "c1c7e507",
   "metadata": {},
   "source": [
    " # Blackledge paper sequence - says that molecular recognition starts as index 8"
   ]
  },
  {
   "cell_type": "code",
   "execution_count": 291,
   "id": "263af724",
   "metadata": {},
   "outputs": [],
   "source": [
    "paper_code = [\"E\", \"E\", \"E\", \"T\", \"N\", \"D\", \"E\", \"D\", \"V\", \"S\",\n",
    "             \"D\", \"I\", \"E\",\"R\", \"R\", \"I\", \"A\", \"M\", \"R\", \"L\", \n",
    "             \"A\", \"E\", \"R\", \"R\", \"Q\", \"E\", \"D\", \"S\", \"A\", \"T\", \"H\",\n",
    "             \"G\", \"D\"]\n",
    "paper_seq = to_seq(paper_code)\n",
    "\n",
    "paper_nt_code, paper_nt_seq = (i[8:28] for i in (paper_code, paper_seq))"
   ]
  },
  {
   "cell_type": "code",
   "execution_count": 292,
   "id": "c6445aa0",
   "metadata": {},
   "outputs": [],
   "source": [
    "paper_num, exp_num = (to_numerical(i) for i in (paper_nt_code, exp_code))"
   ]
  },
  {
   "cell_type": "markdown",
   "id": "189a7592",
   "metadata": {},
   "source": [
    "# Sequence in slack matches blackledge (20 residues)"
   ]
  },
  {
   "cell_type": "code",
   "execution_count": 305,
   "id": "085856e1",
   "metadata": {},
   "outputs": [
    {
     "name": "stdout",
     "output_type": "stream",
     "text": [
      "Match : 20 / 20\n"
     ]
    }
   ],
   "source": [
    "test_seq = to_numerical(list(map(str, \"VSDIERRIAMRLAERRQEDS\")))\n",
    "(exp_num[475:496]==sim_num).sum()\n",
    "print(f\"Match : {(test_seq==paper_num).sum()} / 20\")"
   ]
  },
  {
   "cell_type": "markdown",
   "id": "12aa07d9",
   "metadata": {},
   "source": [
    " # Matches between blackledge and additional database sequence for entire nucleoprotein"
   ]
  },
  {
   "cell_type": "code",
   "execution_count": 294,
   "id": "fd3c6c44",
   "metadata": {},
   "outputs": [],
   "source": [
    "def convolve(x, dx):\n",
    "    return np.array([(x[i:i+len(dx)].flatten() == dx.flatten()).sum()\n",
    "                    for i in range(len(x)-len(dx))])    "
   ]
  },
  {
   "cell_type": "code",
   "execution_count": 295,
   "id": "49260653",
   "metadata": {},
   "outputs": [
    {
     "name": "stdout",
     "output_type": "stream",
     "text": [
      "max seq match : 18, start index : 475\n"
     ]
    }
   ],
   "source": [
    "matches_pdb_nmr = convolve(exp_num, paper_num)\n",
    "print(f\"max seq match : {matches_pdb_nmr.max()}, start index : {matches_pdb_nmr.argmax()}\")"
   ]
  },
  {
   "cell_type": "markdown",
   "id": "14d08878",
   "metadata": {},
   "source": [
    "  # Matches between blackledge Ntail  and our simulation Ntail"
   ]
  },
  {
   "cell_type": "code",
   "execution_count": 296,
   "id": "877b75bc",
   "metadata": {},
   "outputs": [
    {
     "name": "stdout",
     "output_type": "stream",
     "text": [
      "max seq match : 5, start index : 8\n"
     ]
    }
   ],
   "source": [
    "paper_num_full, sim_num = (to_numerical(i) for i in (paper_code, ntail_code))\n",
    "matches_sendai_measles = convolve(paper_num_full, sim_num)\n",
    "print(f\"max seq match : {matches_sendai_measles.max()}, start index : {matches_sendai_measles.argmax()}\")"
   ]
  },
  {
   "cell_type": "markdown",
   "id": "9e03f8c5",
   "metadata": {},
   "source": [
    " # Paper states that molecular recognition residue starts at 8, so this checks out"
   ]
  },
  {
   "cell_type": "code",
   "execution_count": 299,
   "id": "97bf4aba",
   "metadata": {},
   "outputs": [
    {
     "data": {
      "text/html": [
       "<div>\n",
       "<style scoped>\n",
       "    .dataframe tbody tr th:only-of-type {\n",
       "        vertical-align: middle;\n",
       "    }\n",
       "\n",
       "    .dataframe tbody tr th {\n",
       "        vertical-align: top;\n",
       "    }\n",
       "\n",
       "    .dataframe thead th {\n",
       "        text-align: right;\n",
       "    }\n",
       "</style>\n",
       "<table border=\"1\" class=\"dataframe\">\n",
       "  <thead>\n",
       "    <tr style=\"text-align: right;\">\n",
       "      <th></th>\n",
       "      <th>Measles</th>\n",
       "      <th>Sendai (Blackledge)</th>\n",
       "      <th>Sendai (PDB)</th>\n",
       "    </tr>\n",
       "  </thead>\n",
       "  <tbody>\n",
       "    <tr>\n",
       "      <th>0</th>\n",
       "      <td>GLY</td>\n",
       "      <td>VAL</td>\n",
       "      <td>VAL</td>\n",
       "    </tr>\n",
       "    <tr>\n",
       "      <th>1</th>\n",
       "      <td>SER</td>\n",
       "      <td>SER</td>\n",
       "      <td>SER</td>\n",
       "    </tr>\n",
       "    <tr>\n",
       "      <th>2</th>\n",
       "      <td>GLN</td>\n",
       "      <td>ASP</td>\n",
       "      <td>ASP</td>\n",
       "    </tr>\n",
       "    <tr>\n",
       "      <th>3</th>\n",
       "      <td>ASP</td>\n",
       "      <td>ILE</td>\n",
       "      <td>ILE</td>\n",
       "    </tr>\n",
       "    <tr>\n",
       "      <th>4</th>\n",
       "      <td>SER</td>\n",
       "      <td>GLU</td>\n",
       "      <td>GLU</td>\n",
       "    </tr>\n",
       "    <tr>\n",
       "      <th>5</th>\n",
       "      <td>ARG</td>\n",
       "      <td>ARG</td>\n",
       "      <td>ARG</td>\n",
       "    </tr>\n",
       "    <tr>\n",
       "      <th>6</th>\n",
       "      <td>ARG</td>\n",
       "      <td>ARG</td>\n",
       "      <td>ARG</td>\n",
       "    </tr>\n",
       "    <tr>\n",
       "      <th>7</th>\n",
       "      <td>SER</td>\n",
       "      <td>ILE</td>\n",
       "      <td>ILE</td>\n",
       "    </tr>\n",
       "    <tr>\n",
       "      <th>8</th>\n",
       "      <td>ALA</td>\n",
       "      <td>ALA</td>\n",
       "      <td>ALA</td>\n",
       "    </tr>\n",
       "    <tr>\n",
       "      <th>9</th>\n",
       "      <td>ASP</td>\n",
       "      <td>MET</td>\n",
       "      <td>ARG</td>\n",
       "    </tr>\n",
       "    <tr>\n",
       "      <th>10</th>\n",
       "      <td>ALA</td>\n",
       "      <td>ARG</td>\n",
       "      <td>ARG</td>\n",
       "    </tr>\n",
       "    <tr>\n",
       "      <th>11</th>\n",
       "      <td>LEU</td>\n",
       "      <td>LEU</td>\n",
       "      <td>LEU</td>\n",
       "    </tr>\n",
       "    <tr>\n",
       "      <th>12</th>\n",
       "      <td>LEU</td>\n",
       "      <td>ALA</td>\n",
       "      <td>ALA</td>\n",
       "    </tr>\n",
       "    <tr>\n",
       "      <th>13</th>\n",
       "      <td>ARG</td>\n",
       "      <td>GLU</td>\n",
       "      <td>GLU</td>\n",
       "    </tr>\n",
       "    <tr>\n",
       "      <th>14</th>\n",
       "      <td>LEU</td>\n",
       "      <td>ARG</td>\n",
       "      <td>ARG</td>\n",
       "    </tr>\n",
       "    <tr>\n",
       "      <th>15</th>\n",
       "      <td>GLN</td>\n",
       "      <td>ARG</td>\n",
       "      <td>ARG</td>\n",
       "    </tr>\n",
       "    <tr>\n",
       "      <th>16</th>\n",
       "      <td>ALA</td>\n",
       "      <td>GLN</td>\n",
       "      <td>GLN</td>\n",
       "    </tr>\n",
       "    <tr>\n",
       "      <th>17</th>\n",
       "      <td>MET</td>\n",
       "      <td>GLU</td>\n",
       "      <td>GLU</td>\n",
       "    </tr>\n",
       "    <tr>\n",
       "      <th>18</th>\n",
       "      <td>ALA</td>\n",
       "      <td>ASP</td>\n",
       "      <td>ASP</td>\n",
       "    </tr>\n",
       "    <tr>\n",
       "      <th>19</th>\n",
       "      <td>GLY</td>\n",
       "      <td>SER</td>\n",
       "      <td>ALA</td>\n",
       "    </tr>\n",
       "  </tbody>\n",
       "</table>\n",
       "</div>"
      ],
      "text/plain": [
       "   Measles Sendai (Blackledge) Sendai (PDB)\n",
       "0      GLY                 VAL          VAL\n",
       "1      SER                 SER          SER\n",
       "2      GLN                 ASP          ASP\n",
       "3      ASP                 ILE          ILE\n",
       "4      SER                 GLU          GLU\n",
       "5      ARG                 ARG          ARG\n",
       "6      ARG                 ARG          ARG\n",
       "7      SER                 ILE          ILE\n",
       "8      ALA                 ALA          ALA\n",
       "9      ASP                 MET          ARG\n",
       "10     ALA                 ARG          ARG\n",
       "11     LEU                 LEU          LEU\n",
       "12     LEU                 ALA          ALA\n",
       "13     ARG                 GLU          GLU\n",
       "14     LEU                 ARG          ARG\n",
       "15     GLN                 ARG          ARG\n",
       "16     ALA                 GLN          GLN\n",
       "17     MET                 GLU          GLU\n",
       "18     ALA                 ASP          ASP\n",
       "19     GLY                 SER          ALA"
      ]
     },
     "execution_count": 299,
     "metadata": {},
     "output_type": "execute_result"
    }
   ],
   "source": [
    "pd.DataFrame(data=np.stack([to_seq(i) for i in [ntail_code[:-1], paper_nt_code, exp_code[475:495]]], 1),\n",
    "             columns=\"Measles,Sendai (Blackledge),Sendai (PDB)\".split(\",\"),\n",
    "            )"
   ]
  },
  {
   "cell_type": "code",
   "execution_count": null,
   "id": "2d8835c5",
   "metadata": {},
   "outputs": [],
   "source": []
  }
 ],
 "metadata": {
  "kernelspec": {
   "display_name": "Python 3 (ipykernel)",
   "language": "python",
   "name": "python3"
  },
  "language_info": {
   "codemirror_mode": {
    "name": "ipython",
    "version": 3
   },
   "file_extension": ".py",
   "mimetype": "text/x-python",
   "name": "python",
   "nbconvert_exporter": "python",
   "pygments_lexer": "ipython3",
   "version": "3.8.0"
  }
 },
 "nbformat": 4,
 "nbformat_minor": 5
}
